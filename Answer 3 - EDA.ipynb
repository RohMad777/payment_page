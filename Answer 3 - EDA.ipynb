{
 "cells": [
  {
   "cell_type": "markdown",
   "id": "754b3d9a",
   "metadata": {},
   "source": [
    "### Problem statement"
   ]
  },
  {
   "cell_type": "markdown",
   "id": "d7711ef1",
   "metadata": {},
   "source": [
    "Whether the new payment page performs better than the old one."
   ]
  },
  {
   "cell_type": "markdown",
   "id": "672f55e0",
   "metadata": {},
   "source": [
    "### Import Package"
   ]
  },
  {
   "cell_type": "code",
   "execution_count": 1,
   "id": "0292289e",
   "metadata": {
    "ExecuteTime": {
     "end_time": "2021-10-08T01:17:08.124549Z",
     "start_time": "2021-10-08T01:17:03.490263Z"
    }
   },
   "outputs": [],
   "source": [
    "import pandas as pd\n",
    "import numpy as np\n",
    "import calendar\n",
    "import matplotlib.pyplot as plt\n",
    "import seaborn as sns\n",
    "import scipy.stats as stats\n",
    "from scipy.stats import norm\n",
    "from scipy.stats import kurtosis\n",
    "from numpy import percentile\n",
    "\n",
    "%matplotlib inline"
   ]
  },
  {
   "cell_type": "markdown",
   "id": "ecaf4472",
   "metadata": {},
   "source": [
    "### Load Data"
   ]
  },
  {
   "cell_type": "code",
   "execution_count": 2,
   "id": "90d8e1d5",
   "metadata": {
    "ExecuteTime": {
     "end_time": "2021-10-08T01:17:46.376477Z",
     "start_time": "2021-10-08T01:17:13.912501Z"
    }
   },
   "outputs": [
    {
     "data": {
      "text/html": [
       "<div>\n",
       "<style scoped>\n",
       "    .dataframe tbody tr th:only-of-type {\n",
       "        vertical-align: middle;\n",
       "    }\n",
       "\n",
       "    .dataframe tbody tr th {\n",
       "        vertical-align: top;\n",
       "    }\n",
       "\n",
       "    .dataframe thead th {\n",
       "        text-align: right;\n",
       "    }\n",
       "</style>\n",
       "<table border=\"1\" class=\"dataframe\">\n",
       "  <thead>\n",
       "    <tr style=\"text-align: right;\">\n",
       "      <th></th>\n",
       "      <th>user_id</th>\n",
       "      <th>timestamp</th>\n",
       "      <th>payment_page</th>\n",
       "      <th>is_convert</th>\n",
       "    </tr>\n",
       "  </thead>\n",
       "  <tbody>\n",
       "    <tr>\n",
       "      <th>0</th>\n",
       "      <td>922696</td>\n",
       "      <td>2017-01-02 13:42:05.379</td>\n",
       "      <td>new_page</td>\n",
       "      <td>0</td>\n",
       "    </tr>\n",
       "    <tr>\n",
       "      <th>1</th>\n",
       "      <td>781507</td>\n",
       "      <td>2017-01-02 13:42:15.234</td>\n",
       "      <td>old_page</td>\n",
       "      <td>0</td>\n",
       "    </tr>\n",
       "    <tr>\n",
       "      <th>2</th>\n",
       "      <td>737319</td>\n",
       "      <td>2017-01-02 13:42:21.786</td>\n",
       "      <td>old_page</td>\n",
       "      <td>0</td>\n",
       "    </tr>\n",
       "    <tr>\n",
       "      <th>3</th>\n",
       "      <td>818377</td>\n",
       "      <td>2017-01-02 13:42:26.641</td>\n",
       "      <td>new_page</td>\n",
       "      <td>0</td>\n",
       "    </tr>\n",
       "    <tr>\n",
       "      <th>4</th>\n",
       "      <td>725857</td>\n",
       "      <td>2017-01-02 13:42:27.851</td>\n",
       "      <td>new_page</td>\n",
       "      <td>0</td>\n",
       "    </tr>\n",
       "  </tbody>\n",
       "</table>\n",
       "</div>"
      ],
      "text/plain": [
       "   user_id               timestamp payment_page  is_convert\n",
       "0   922696 2017-01-02 13:42:05.379     new_page           0\n",
       "1   781507 2017-01-02 13:42:15.234     old_page           0\n",
       "2   737319 2017-01-02 13:42:21.786     old_page           0\n",
       "3   818377 2017-01-02 13:42:26.641     new_page           0\n",
       "4   725857 2017-01-02 13:42:27.851     new_page           0"
      ]
     },
     "execution_count": 2,
     "metadata": {},
     "output_type": "execute_result"
    }
   ],
   "source": [
    "df = pd.read_excel('./payment_page.xlsx')\n",
    "df.head(5)"
   ]
  },
  {
   "cell_type": "code",
   "execution_count": 3,
   "id": "3eab1f93",
   "metadata": {
    "ExecuteTime": {
     "end_time": "2021-10-08T01:17:46.469479Z",
     "start_time": "2021-10-08T01:17:46.381479Z"
    }
   },
   "outputs": [
    {
     "name": "stdout",
     "output_type": "stream",
     "text": [
      "<class 'pandas.core.frame.DataFrame'>\n",
      "RangeIndex: 294478 entries, 0 to 294477\n",
      "Data columns (total 4 columns):\n",
      " #   Column        Non-Null Count   Dtype         \n",
      "---  ------        --------------   -----         \n",
      " 0   user_id       294478 non-null  int64         \n",
      " 1   timestamp     294478 non-null  datetime64[ns]\n",
      " 2   payment_page  294478 non-null  object        \n",
      " 3   is_convert    294478 non-null  int64         \n",
      "dtypes: datetime64[ns](1), int64(2), object(1)\n",
      "memory usage: 9.0+ MB\n"
     ]
    }
   ],
   "source": [
    "df.info()"
   ]
  },
  {
   "cell_type": "markdown",
   "id": "7196a45a",
   "metadata": {},
   "source": [
    "### EDA"
   ]
  },
  {
   "cell_type": "code",
   "execution_count": 6,
   "id": "8ae0f65c",
   "metadata": {
    "ExecuteTime": {
     "end_time": "2021-10-08T01:20:57.386427Z",
     "start_time": "2021-10-08T01:20:57.327432Z"
    }
   },
   "outputs": [
    {
     "data": {
      "text/html": [
       "<div>\n",
       "<style scoped>\n",
       "    .dataframe tbody tr th:only-of-type {\n",
       "        vertical-align: middle;\n",
       "    }\n",
       "\n",
       "    .dataframe tbody tr th {\n",
       "        vertical-align: top;\n",
       "    }\n",
       "\n",
       "    .dataframe thead th {\n",
       "        text-align: right;\n",
       "    }\n",
       "</style>\n",
       "<table border=\"1\" class=\"dataframe\">\n",
       "  <thead>\n",
       "    <tr style=\"text-align: right;\">\n",
       "      <th></th>\n",
       "      <th>user_id</th>\n",
       "      <th>is_convert</th>\n",
       "    </tr>\n",
       "  </thead>\n",
       "  <tbody>\n",
       "    <tr>\n",
       "      <th>count</th>\n",
       "      <td>294478.000000</td>\n",
       "      <td>294478.000000</td>\n",
       "    </tr>\n",
       "    <tr>\n",
       "      <th>mean</th>\n",
       "      <td>787974.124733</td>\n",
       "      <td>0.119659</td>\n",
       "    </tr>\n",
       "    <tr>\n",
       "      <th>std</th>\n",
       "      <td>91210.823776</td>\n",
       "      <td>0.324563</td>\n",
       "    </tr>\n",
       "    <tr>\n",
       "      <th>min</th>\n",
       "      <td>630000.000000</td>\n",
       "      <td>0.000000</td>\n",
       "    </tr>\n",
       "    <tr>\n",
       "      <th>25%</th>\n",
       "      <td>709032.250000</td>\n",
       "      <td>0.000000</td>\n",
       "    </tr>\n",
       "    <tr>\n",
       "      <th>50%</th>\n",
       "      <td>787933.500000</td>\n",
       "      <td>0.000000</td>\n",
       "    </tr>\n",
       "    <tr>\n",
       "      <th>75%</th>\n",
       "      <td>866911.750000</td>\n",
       "      <td>0.000000</td>\n",
       "    </tr>\n",
       "    <tr>\n",
       "      <th>max</th>\n",
       "      <td>945999.000000</td>\n",
       "      <td>1.000000</td>\n",
       "    </tr>\n",
       "  </tbody>\n",
       "</table>\n",
       "</div>"
      ],
      "text/plain": [
       "             user_id     is_convert\n",
       "count  294478.000000  294478.000000\n",
       "mean   787974.124733       0.119659\n",
       "std     91210.823776       0.324563\n",
       "min    630000.000000       0.000000\n",
       "25%    709032.250000       0.000000\n",
       "50%    787933.500000       0.000000\n",
       "75%    866911.750000       0.000000\n",
       "max    945999.000000       1.000000"
      ]
     },
     "execution_count": 6,
     "metadata": {},
     "output_type": "execute_result"
    }
   ],
   "source": [
    "df.describe()"
   ]
  },
  {
   "cell_type": "code",
   "execution_count": 11,
   "id": "5ab53f6c",
   "metadata": {
    "ExecuteTime": {
     "end_time": "2021-10-08T01:33:05.688151Z",
     "start_time": "2021-10-08T01:33:05.538552Z"
    }
   },
   "outputs": [],
   "source": [
    "df_make_smy=df.groupby('payment_page').agg({'is_convert':['count','mean']}).reset_index()\n",
    "df_make_smy.columns = df_make_smy.columns.droplevel()"
   ]
  },
  {
   "cell_type": "code",
   "execution_count": 12,
   "id": "9a357034",
   "metadata": {
    "ExecuteTime": {
     "end_time": "2021-10-08T01:33:17.315905Z",
     "start_time": "2021-10-08T01:33:17.286910Z"
    }
   },
   "outputs": [
    {
     "data": {
      "text/html": [
       "<div>\n",
       "<style scoped>\n",
       "    .dataframe tbody tr th:only-of-type {\n",
       "        vertical-align: middle;\n",
       "    }\n",
       "\n",
       "    .dataframe tbody tr th {\n",
       "        vertical-align: top;\n",
       "    }\n",
       "\n",
       "    .dataframe thead th {\n",
       "        text-align: right;\n",
       "    }\n",
       "</style>\n",
       "<table border=\"1\" class=\"dataframe\">\n",
       "  <thead>\n",
       "    <tr style=\"text-align: right;\">\n",
       "      <th></th>\n",
       "      <th></th>\n",
       "      <th>count</th>\n",
       "      <th>mean</th>\n",
       "    </tr>\n",
       "  </thead>\n",
       "  <tbody>\n",
       "    <tr>\n",
       "      <th>0</th>\n",
       "      <td>new_page</td>\n",
       "      <td>147239</td>\n",
       "      <td>0.118841</td>\n",
       "    </tr>\n",
       "    <tr>\n",
       "      <th>1</th>\n",
       "      <td>old_page</td>\n",
       "      <td>147239</td>\n",
       "      <td>0.120478</td>\n",
       "    </tr>\n",
       "  </tbody>\n",
       "</table>\n",
       "</div>"
      ],
      "text/plain": [
       "              count      mean\n",
       "0  new_page  147239  0.118841\n",
       "1  old_page  147239  0.120478"
      ]
     },
     "execution_count": 12,
     "metadata": {},
     "output_type": "execute_result"
    }
   ],
   "source": [
    "df_make_smy.sort_values('count',ascending=False).head()"
   ]
  },
  {
   "cell_type": "code",
   "execution_count": 13,
   "id": "aaa1a1ea",
   "metadata": {
    "ExecuteTime": {
     "end_time": "2021-10-08T01:34:38.940834Z",
     "start_time": "2021-10-08T01:34:38.857553Z"
    }
   },
   "outputs": [],
   "source": [
    "df_new_page = df[df['payment_page'] == 'new_page']\n",
    "df_old_page = df[df['payment_page'] == 'old_page']"
   ]
  },
  {
   "cell_type": "code",
   "execution_count": 16,
   "id": "7277ac0e",
   "metadata": {
    "ExecuteTime": {
     "end_time": "2021-10-08T01:35:59.373775Z",
     "start_time": "2021-10-08T01:35:59.050260Z"
    }
   },
   "outputs": [
    {
     "data": {
      "text/plain": [
       "<AxesSubplot:xlabel='is_convert', ylabel='Count'>"
      ]
     },
     "execution_count": 16,
     "metadata": {},
     "output_type": "execute_result"
    },
    {
     "data": {
      "image/png": "[encoded data removed]",
      "text/plain": [
       "<Figure size 432x288 with 1 Axes>"
      ]
     },
     "metadata": {
      "needs_background": "light"
     },
     "output_type": "display_data"
    }
   ],
   "source": [
    "sns.histplot(df_new_page['is_convert'])"
   ]
  },
  {
   "cell_type": "code",
   "execution_count": 15,
   "id": "2f16c287",
   "metadata": {
    "ExecuteTime": {
     "end_time": "2021-10-08T01:35:45.078522Z",
     "start_time": "2021-10-08T01:35:44.594535Z"
    }
   },
   "outputs": [
    {
     "data": {
      "text/plain": [
       "<AxesSubplot:xlabel='is_convert', ylabel='Count'>"
      ]
     },
     "execution_count": 15,
     "metadata": {},
     "output_type": "execute_result"
    },
    {
     "data": {
      "image/png": "[encoded data removed]",
      "text/plain": [
       "<Figure size 432x288 with 1 Axes>"
      ]
     },
     "metadata": {
      "needs_background": "light"
     },
     "output_type": "display_data"
    }
   ],
   "source": [
    "sns.histplot(df_old_page['is_convert'])"
   ]
  },
  {
   "cell_type": "markdown",
   "id": "8616e342",
   "metadata": {},
   "source": [
    "### Hypothesis and findings"
   ]
  },
  {
   "cell_type": "markdown",
   "id": "fec1e3e5",
   "metadata": {},
   "source": [
    "### Two Sample Test/AB Testing(Old Page vs New Page)"
   ]
  },
  {
   "cell_type": "markdown",
   "id": "5d11c351",
   "metadata": {},
   "source": [
    "##### It was applied to compare whether the mean difference between the two groups was truly significant or whether it was due to random chance. This helps answer questions such as whether new page payment have a significant meaning toincreasing the conversion"
   ]
  },
  {
   "cell_type": "code",
   "execution_count": 23,
   "id": "e7ebc4aa",
   "metadata": {
    "ExecuteTime": {
     "end_time": "2021-10-08T02:02:47.102510Z",
     "start_time": "2021-10-08T02:02:46.465247Z"
    }
   },
   "outputs": [
    {
     "name": "stdout",
     "output_type": "stream",
     "text": [
      "Control sample mean:0.12047759085568362\n",
      "Control sample std:0.32552029218906237\n",
      "Control Kurtosis:3.4374369502126414\n",
      "Treatment sample mean:0.11884079625642663\n",
      "t-statistic:-1.368333843398843\n",
      "p-value:0.085604\n"
     ]
    },
    {
     "data": {
      "image/png": "[encoded data removed]",
      "text/plain": [
       "<Figure size 432x288 with 1 Axes>"
      ]
     },
     "metadata": {
      "needs_background": "light"
     },
     "output_type": "display_data"
    }
   ],
   "source": [
    "np.random.seed(123)\n",
    "old_page =df_old_page['is_convert']\n",
    "new_page = df_new_page['is_convert']\n",
    "print(\"Control sample mean:\" + str(old_page.mean()))\n",
    "print(\"Control sample std:\" + str(old_page.std()))\n",
    "print(\"Control Kurtosis:\" + str(old_page.kurtosis()))\n",
    "print(\"Treatment sample mean:\" + str(new_page.mean()))\n",
    "\n",
    "# Independent T-Test\n",
    "t,p = stats.ttest_ind(new_page, old_page,equal_var=False)\n",
    "# ttest_ind is 2-tailed, so half the resulting p-value to get a 1-tailed p-value\n",
    "p1 = '%f' % (p/2)\n",
    "\n",
    "#2-tailed\n",
    "print(\"t-statistic:\" + str(t))\n",
    "print(\"p-value:\" + str(p1))\n",
    "\n",
    "pop = np.random.normal(old_page.mean(), old_page.std(), 147239)\n",
    "# calculate a 90% confidence interval. 10% of the probability is outside this, 5% in each tail\n",
    "ci = stats.norm.interval(0.90, old_page.mean(), old_page.std())\n",
    "plt.hist(pop, bins=100)\n",
    "# show the hypothesized population mean\n",
    "plt.axvline(pop.mean(), color='yellow', linestyle='dashed', linewidth=2)\n",
    "# show the right-tail confidence interval threshold - 5% of propbability is under the curve to the right of this.\n",
    "plt.axvline(ci[1], color='red', linestyle='dashed', linewidth=2)\n",
    "# show the right-tail confidence interval threshold - 5% of propbability is under the curve to the right of this.\n",
    "plt.axvline(ci[0], color='red', linestyle='dashed', linewidth=2)\n",
    "# show the t-statistic - the p-value is the area under the curve to the right of this\n",
    "plt.axvline(pop.mean() +  t*pop.std(), color='magenta', linestyle='dashed', linewidth=2)\n",
    "plt.show()"
   ]
  },
  {
   "cell_type": "markdown",
   "id": "e85185d9",
   "metadata": {},
   "source": [
    "The null hypothesis (H0) is that the population mean value for control group category payment page is less than the population mean value for treatment group, and the fact that our sample mean for treatment group is higher than our sample mean for control group can be described randomly in our sample selection.\n",
    "\n",
    "The alternative hypothesis (H1) is that the average value of the payment page population for the control category that is closest to the actual goal is greater than the average value for the population of treatment group."
   ]
  },
  {
   "cell_type": "markdown",
   "id": "1214f95a",
   "metadata": {},
   "source": [
    "$$\n",
    "\\begin{equation}H_{0}: \\mu_{1} \\le \\mu_{2} \\\\ H_{1}: \\mu_{1} > \\mu_{2} \\end{equation}\n",
    "$$\n",
    "\n",
    "\\begin{equation}\\mu_{1}: Control\\end{equation} \\begin{equation}\\mu_{2}: Treatment\\end{equation}"
   ]
  },
  {
   "cell_type": "markdown",
   "id": "5f55fc02",
   "metadata": {},
   "source": [
    "This shows that we do not have enough evidence to say that the control group has a higher mean value than the treatment group, so fail to reject H0"
   ]
  },
  {
   "cell_type": "code",
   "execution_count": 36,
   "id": "4ca2848f",
   "metadata": {
    "ExecuteTime": {
     "end_time": "2021-10-08T02:33:17.381216Z",
     "start_time": "2021-10-08T02:33:16.382218Z"
    }
   },
   "outputs": [
    {
     "data": {
      "image/png": "[encoded data removed]",
      "text/plain": [
       "<Figure size 576x360 with 1 Axes>"
      ]
     },
     "metadata": {
      "needs_background": "light"
     },
     "output_type": "display_data"
    }
   ],
   "source": [
    "plt.figure(figsize=(8, 5))\n",
    "sns.violinplot(x='payment_page',\n",
    "               y='is_convert',\n",
    "               data=df,\n",
    "               palette=\"muted\",\n",
    "               split=True)\n",
    "plt.xlabel('Paymen Page')\n",
    "plt.ylabel(\"Is Convert\")\n",
    "plt.show()"
   ]
  },
  {
   "cell_type": "markdown",
   "id": "067c428d",
   "metadata": {},
   "source": [
    "### Recommendation"
   ]
  },
  {
   "cell_type": "markdown",
   "id": "d3aa9d0c",
   "metadata": {},
   "source": [
    "From the analysis results and the hypothesis that the new page is not better than the old page, I recommend that you provide a new page for the category of users aged 17-25 years, because that age is more concerned with the appearance of a fresh design compared to users aged 25 years."
   ]
  },
  {
   "cell_type": "markdown",
   "id": "02b32346",
   "metadata": {},
   "source": [
    "### Resource"
   ]
  },
  {
   "cell_type": "markdown",
   "id": "73d9c5b2",
   "metadata": {},
   "source": [
    "<b>Github<b>: https://github.com/RohMad777/payment_page"
   ]
  }
 ],
 "metadata": {
  "kernelspec": {
   "display_name": "Python 3",
   "language": "python",
   "name": "python3"
  },
  "language_info": {
   "codemirror_mode": {
    "name": "ipython",
    "version": 3
   },
   "file_extension": ".py",
   "mimetype": "text/x-python",
   "name": "python",
   "nbconvert_exporter": "python",
   "pygments_lexer": "ipython3",
   "version": "3.8.8"
  }
 },
 "nbformat": 4,
 "nbformat_minor": 5
}
